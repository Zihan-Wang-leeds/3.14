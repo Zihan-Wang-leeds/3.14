{
 "cells": [
  {
   "cell_type": "markdown",
   "metadata": {},
   "source": [
    "# Classes and Methods\n",
    "\n",
    "hour, minute, and second are not explicitly defined within the Time class before they are used. In Python, this doesn't immediately raise an error because Python allows dynamic attribute assignment—attributes can be added to an object at runtime. However, this can lead to issues if the attributes aren't properly initialized before they're accessed, as the print_time method assumes they exist."
   ]
  },
  {
   "cell_type": "markdown",
   "metadata": {},
   "source": [
    "## Understanding Methods"
   ]
  },
  {
   "cell_type": "markdown",
   "metadata": {},
   "source": [
    "### Instance Methods\n",
    "\n",
    "- **Definition**: Functions defined inside a class that operate on an instance of that class.\n",
    "- **Key Feature**: Take `self` as the first parameter, representing the instance calling the method.\n",
    "- **Purpose**: Access and modify instance-specific data (attributes).\n",
    "- **Invocation**: Called on an object, e.g., `obj.method()`.\n",
    "- **Example**: A method to display time using instance attributes."
   ]
  },
  {
   "cell_type": "markdown",
   "metadata": {},
   "source": [
    "### Static Methods\n",
    "\n",
    "- **Definition**: Functions defined inside a class that do not depend on instance-specific data.\n",
    "- **Key Feature**: Do not take `self` as a parameter; behave like regular functions but belong to the class.\n",
    "- **Purpose**: Perform utility tasks related to the class, without needing an instance.\n",
    "- **Invocation**: Called on the class itself, e.g., `ClassName.method()`.\n",
    "- **Example**: A method to create a time object from seconds, independent of any instance."
   ]
  },
  {
   "cell_type": "markdown",
   "metadata": {},
   "source": [
    "## Defining Methods"
   ]
  },
  {
   "cell_type": "code",
   "execution_count": null,
   "metadata": {},
   "outputs": [],
   "source": [
    "# Define the Time class with print_time method\n",
    "class Time:\n",
    "    \"\"\"Represents the time of day.\"\"\"\n",
    "    def __init__(self, hour=0, minute=0, second=0):\n",
    "        self.hour = hour\n",
    "        self.minute = minute\n",
    "        self.second = second\n",
    "    def print_time(self):\n",
    "        s = f'{self.minute:02d}:{self.second:02d}'\n",
    "        print(s)\n",
    "\n",
    "# Invoking Methods\n",
    "start = Time(9, 40, 0)\n",
    "\n",
    "# Function syntax\n",
    "Time.print_time(start)  # Output: 40:00\n",
    "\n",
    "# Method syntax\n",
    "start.print_time()      # Output: 40:00"
   ]
  },
  {
   "cell_type": "markdown",
   "metadata": {},
   "source": [
    "## Another Method"
   ]
  },
  {
   "cell_type": "code",
   "execution_count": null,
   "metadata": {},
   "outputs": [],
   "source": [
    "# Add time_to_int method\n",
    "class Time:\n",
    "    \"\"\"Represents the time of day.\"\"\"\n",
    "    def __init__(self, hour=0, minute=0, second=0):\n",
    "        self.hour = hour\n",
    "        self.minute = minute\n",
    "        self.second = second\n",
    "    def print_time(self):\n",
    "        s = f'{self.minute:02d}:{self.second:02d}'\n",
    "        print(s)\n",
    "    def time_to_int(self):\n",
    "        minutes = self.hour * 60 + self.minute\n",
    "        seconds = minutes * 60 + self.second\n",
    "        return seconds\n",
    "\n",
    "start = Time(9, 40, 0)\n",
    "start.time_to_int()  # Output: 34800"
   ]
  },
  {
   "cell_type": "markdown",
   "metadata": {},
   "source": [
    "## Static Methods"
   ]
  },
  {
   "cell_type": "code",
   "execution_count": null,
   "metadata": {},
   "outputs": [],
   "source": [
    "# Add int_to_time as a static method\n",
    "class Time:\n",
    "    \"\"\"Represents the time of day.\"\"\"\n",
    "    def __init__(self, hour=0, minute=0, second=0):\n",
    "        self.hour = hour\n",
    "        self.minute = minute\n",
    "        self.second = second\n",
    "    def print_time(self):\n",
    "        s = f'{self.minute:02d}:{self.second:02d}'\n",
    "        print(s)\n",
    "    def time_to_int(self):\n",
    "        minutes = self.hour * 60 + self.minute\n",
    "        seconds = minutes * 60 + self.second\n",
    "        return seconds\n",
    "    def int_to_time(seconds):\n",
    "        minute, second = divmod(seconds, 60)\n",
    "        hour, minute = divmod(minute, 60)\n",
    "        return Time(hour, minute, second)\n",
    "\n",
    "start = Time.int_to_time(34800)\n",
    "start.print_time()  # Output: 40:00"
   ]
  },
  {
   "cell_type": "code",
   "execution_count": null,
   "metadata": {},
   "outputs": [],
   "source": [
    "# Instance method example: add_time\n",
    "class Time:\n",
    "    \"\"\"Represents the time of day.\"\"\"\n",
    "    def __init__(self, hour=0, minute=0, second=0):\n",
    "        self.hour = hour\n",
    "        self.minute = minute\n",
    "        self.second = second\n",
    "    def print_time(self):\n",
    "        s = f'{self.minute:02d}:{self.second:02d}'\n",
    "        print(s)\n",
    "    def time_to_int(self):\n",
    "        minutes = self.hour * 60 + self.minute\n",
    "        seconds = minutes * 60 + self.second\n",
    "        return seconds\n",
    "    def int_to_time(seconds):\n",
    "        minute, second = divmod(seconds, 60)\n",
    "        hour, minute = divmod(minute, 60)\n",
    "        return Time(hour, minute, second)\n",
    "    def add_time(self, hours, minutes, seconds):\n",
    "        duration = Time(hours, minutes, seconds)\n",
    "        seconds = self.time_to_int() + duration.time_to_int()\n",
    "        return Time.int_to_time(seconds)\n",
    "\n",
    "start = Time(9, 40, 0)\n",
    "end = start.add_time(1, 32, 0)\n",
    "end.print_time()  # Output: 12:00"
   ]
  },
  {
   "cell_type": "markdown",
   "metadata": {},
   "source": [
    "## Comparing Time Objects"
   ]
  },
  {
   "cell_type": "code",
   "execution_count": null,
   "metadata": {},
   "outputs": [],
   "source": [
    "# Add is_after method\n",
    "class Time:\n",
    "    \"\"\"Represents the time of day.\"\"\"\n",
    "    def __init__(self, hour=0, minute=0, second=0):\n",
    "        self.hour = hour\n",
    "        self.minute = minute\n",
    "        self.second = second\n",
    "    def print_time(self):\n",
    "        s = f'{self.minute:02d}:{self.second:02d}'\n",
    "        print(s)\n",
    "    def time_to_int(self):\n",
    "        minutes = self.hour * 60 + self.minute\n",
    "        seconds = minutes * 60 + self.second\n",
    "        return seconds\n",
    "    def int_to_time(seconds):\n",
    "        minute, second = divmod(seconds, 60)\n",
    "        hour, minute = divmod(minute, 60)\n",
    "        return Time(hour, minute, second)\n",
    "    def is_after(self, other):\n",
    "        return self.time_to_int() > other.time_to_int()\n",
    "\n",
    "start = Time(9, 40, 0)\n",
    "end = Time(11, 12, 0)\n",
    "end.is_after(start)  # Output: True"
   ]
  },
  {
   "cell_type": "markdown",
   "metadata": {},
   "source": [
    "## The __str__ Method"
   ]
  },
  {
   "cell_type": "code",
   "execution_count": null,
   "metadata": {},
   "outputs": [],
   "source": [
    "# Add __str__ method\n",
    "class Time:\n",
    "    \"\"\"Represents the time of day.\"\"\"\n",
    "    def __init__(self, hour=0, minute=0, second=0):\n",
    "        self.hour = hour\n",
    "        self.minute = minute\n",
    "        self.second = second\n",
    "    def time_to_int(self):\n",
    "        minutes = self.hour * 60 + self.minute\n",
    "        seconds = minutes * 60 + self.second\n",
    "        return seconds\n",
    "    def int_to_time(seconds):\n",
    "        minute, second = divmod(seconds, 60)\n",
    "        hour, minute = divmod(minute, 60)\n",
    "        return Time(hour, minute, second)\n",
    "    def __str__(self):\n",
    "        s = f'{self.minute:02d}:{self.second:02d}'\n",
    "        return s\n",
    "\n",
    "end = Time(11, 12, 0)\n",
    "print(end)  # Output: 12:00"
   ]
  },
  {
   "cell_type": "markdown",
   "metadata": {},
   "source": [
    "## The init Method"
   ]
  },
  {
   "cell_type": "code",
   "execution_count": null,
   "metadata": {},
   "outputs": [],
   "source": [
    "# Demonstrate __init__ method\n",
    "class Time:\n",
    "    \"\"\"Represents the time of day.\"\"\"\n",
    "    def __init__(self, hour=0, minute=0, second=0):\n",
    "        self.hour = hour\n",
    "        self.minute = minute\n",
    "        self.second = second\n",
    "    def __str__(self):\n",
    "        s = f'{self.minute:02d}:{self.second:02d}'\n",
    "        return s\n",
    "\n",
    "# Examples with __init__\n",
    "time1 = Time(9, 40, 0)\n",
    "print(time1)  # Output: 40:00\n",
    "\n",
    "time2 = Time()\n",
    "print(time2)  # Output: 00:00\n",
    "\n",
    "time3 = Time(9)\n",
    "print(time3)  # Output: 00:00\n",
    "\n",
    "time4 = Time(9, 45)\n",
    "print(time4)  # Output: 45:00"
   ]
  },
  {
   "cell_type": "markdown",
   "metadata": {},
   "source": [
    "## Operator Overloading"
   ]
  },
  {
   "cell_type": "code",
   "execution_count": null,
   "metadata": {},
   "outputs": [],
   "source": [
    "# Add __add__ method\n",
    "class Time:\n",
    "    \"\"\"Represents the time of day.\"\"\"\n",
    "    def __init__(self, hour=0, minute=0, second=0):\n",
    "        self.hour = hour\n",
    "        self.minute = minute\n",
    "        self.second = second\n",
    "    def time_to_int(self):\n",
    "        minutes = self.hour * 60 + self.minute\n",
    "        seconds = minutes * 60 + self.second\n",
    "        return seconds\n",
    "    def int_to_time(seconds):\n",
    "        minute, second = divmod(seconds, 60)\n",
    "        hour, minute = divmod(minute, 60)\n",
    "        return Time(hour, minute, second)\n",
    "    def __str__(self):\n",
    "        s = f'{self.minute:02d}:{self.second:02d}'\n",
    "        return s\n",
    "    def __add__(self, other):\n",
    "        seconds = self.time_to_int() + other.time_to_int()\n",
    "        return Time.int_to_time(seconds)\n",
    "\n",
    "start = Time(9, 40, 0)\n",
    "duration = Time(1, 32, 0)\n",
    "end = start + duration\n",
    "print(end)  # Output: 12:00"
   ]
  },
  {
   "cell_type": "markdown",
   "metadata": {},
   "source": [
    "## Debugging"
   ]
  },
  {
   "cell_type": "code",
   "execution_count": null,
   "metadata": {},
   "outputs": [],
   "source": [
    "# Add is_valid method\n",
    "class Time:\n",
    "    \"\"\"Represents the time of day.\"\"\"\n",
    "    def __init__(self, hour=0, minute=0, second=0):\n",
    "        self.hour = hour\n",
    "        self.minute = minute\n",
    "        self.second = second\n",
    "    def time_to_int(self):\n",
    "        minutes = self.hour * 60 + self.minute\n",
    "        seconds = minutes * 60 + self.second\n",
    "        return seconds\n",
    "    def int_to_time(seconds):\n",
    "        minute, second = divmod(seconds, 60)\n",
    "        hour, minute = divmod(minute, 60)\n",
    "        return Time(hour, minute, second)\n",
    "    def __str__(self):\n",
    "        s = f'{self.minute:02d}:{self.second:02d}'\n",
    "        return s\n",
    "    def is_valid(self):\n",
    "        if self.hour < 0 or self.minute < 0 or self.second < 0:\n",
    "            return False\n",
    "        if self.minute >= 60 or self.second >= 60:\n",
    "            return False\n",
    "        if not isinstance(self.hour, int) or not isinstance(self.minute, int):\n",
    "            return False\n",
    "        return True"
   ]
  },
  {
   "cell_type": "code",
   "execution_count": null,
   "metadata": {},
   "outputs": [],
   "source": [
    "# Using assertions with is_after\n",
    "class Time:\n",
    "    \"\"\"Represents the time of day.\"\"\"\n",
    "    def __init__(self, hour=0, minute=0, second=0):\n",
    "        self.hour = hour\n",
    "        self.minute = minute\n",
    "        self.second = second\n",
    "    def time_to_int(self):\n",
    "        minutes = self.hour * 60 + self.minute\n",
    "        seconds = minutes * 60 + self.second\n",
    "        return seconds\n",
    "    def int_to_time(seconds):\n",
    "        minute, second = divmod(seconds, 60)\n",
    "        hour, minute = divmod(minute, 60)\n",
    "        return Time(hour, minute, second)\n",
    "    def is_after(self, other):\n",
    "        assert self.is_valid(), 'self is not a valid Time'\n",
    "        assert other.is_valid(), 'other is not a valid Time'\n",
    "        return self.time_to_int() > other.time_to_int()\n",
    "    def __str__(self):\n",
    "        s = f'{self.minute:02d}:{self.second:02d}'\n",
    "        return s\n",
    "    def is_valid(self):\n",
    "        if self.hour < 0 or self.minute < 0 or self.second < 0:\n",
    "            return False\n",
    "        if self.minute >= 60 or self.second >= 60:\n",
    "            return False\n",
    "        if not isinstance(self.hour, int) or not isinstance(self.minute, int):\n",
    "            return False\n",
    "        return True\n",
    "\n",
    "# Example with assertion error\n",
    "duration = Time(0, 132, 0)\n",
    "print(duration)  # Output: 132:00\n",
    "# start = Time(9, 40, 0)\n",
    "# start.is_after(duration)  # Uncomment to see AssertionError: self is not a valid Time"
   ]
  },
  {
   "cell_type": "markdown",
   "metadata": {},
   "source": [
    "## Exercise: Date Class"
   ]
  },
  {
   "cell_type": "code",
   "execution_count": null,
   "metadata": {},
   "outputs": [],
   "source": [
    "# Define and test Date class\n",
    "class Date:\n",
    "    def __init__(self, year, month, day):\n",
    "        self.year = year\n",
    "        self.month = month\n",
    "        self.day = day\n",
    "    \n",
    "    def __str__(self):\n",
    "        return f'{self.year}-{self.month:02d}-{self.day:02d}'\n",
    "    \n",
    "    def to_tuple(self):\n",
    "        return (self.year, self.month, self.day)\n",
    "    \n",
    "    def is_after(self, other):\n",
    "        return self.to_tuple() > other.to_tuple()\n",
    "\n",
    "# Test the Date class\n",
    "date1 = Date(1933, 6, 22)\n",
    "date2 = Date(1933, 9, 17)\n",
    "print(date1)          # Output: 1933-06-22\n",
    "print(date2.is_after(date1))  # Output: True"
   ]
  }
 ],
 "metadata": {
  "kernelspec": {
   "display_name": "Python 3",
   "language": "python",
   "name": "python3"
  },
  "language_info": {
   "codemirror_mode": {
    "name": "ipython",
    "version": 3
   },
   "file_extension": ".py",
   "mimetype": "text/x-python",
   "name": "python",
   "nbconvert_exporter": "python",
   "pygments_lexer": "ipython3",
   "version": "3.8.5"
  }
 },
 "nbformat": 4,
 "nbformat_minor": 4
}
